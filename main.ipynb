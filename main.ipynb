{
 "cells": [
  {
   "cell_type": "code",
   "execution_count": 1,
   "metadata": {},
   "outputs": [],
   "source": [
    "# !wget http://vis-www.cs.umass.edu/lfw/lfw.tgz\n",
    "# !tar -xvf /content/lfw.tgz"
   ]
  },
  {
   "cell_type": "code",
   "execution_count": null,
   "metadata": {},
   "outputs": [],
   "source": []
  },
  {
   "attachments": {},
   "cell_type": "markdown",
   "metadata": {},
   "source": [
    "# Part 2 Using CNN for Feature Extraction (30 points)\n",
    "* Use ResNet50 to extract features vectors from raw images. You can use TF or Pytorch APIs to:\n",
    "* Obtain a ResNet-50 model pre-trained on a dataset such as ImageNet.\n",
    "* Perform necessary preprocessing on the images before feeding them into the network.\n",
    "* Extract the features from the penultimate layer of the network (before the fully connected layer - the classification head).\n",
    "* Store the features in a dictionary, where the key is the name of the image and the value is the feature vector."
   ]
  },
  {
   "cell_type": "code",
   "execution_count": 2,
   "metadata": {},
   "outputs": [],
   "source": [
    "import torch\n",
    "import torchvision.models as models\n",
    "import torchvision.transforms as transforms\n",
    "from torch.autograd import Variable\n",
    "from PIL import Image\n",
    "import os"
   ]
  },
  {
   "cell_type": "code",
   "execution_count": 3,
   "metadata": {},
   "outputs": [
    {
     "name": "stderr",
     "output_type": "stream",
     "text": [
      "d:\\projects\\venvs\\pytorch-ml\\lib\\site-packages\\torchvision\\models\\_utils.py:208: UserWarning: The parameter 'pretrained' is deprecated since 0.13 and may be removed in the future, please use 'weights' instead.\n",
      "  warnings.warn(\n",
      "d:\\projects\\venvs\\pytorch-ml\\lib\\site-packages\\torchvision\\models\\_utils.py:223: UserWarning: Arguments other than a weight enum or `None` for 'weights' are deprecated since 0.13 and may be removed in the future. The current behavior is equivalent to passing `weights=ResNet50_Weights.IMAGENET1K_V1`. You can also use `weights=ResNet50_Weights.DEFAULT` to get the most up-to-date weights.\n",
      "  warnings.warn(msg)\n"
     ]
    }
   ],
   "source": [
    "\n",
    "# Obtain a ResNet-50 model pre-trained on a dataset such as ImageNet.\n",
    "model = models.resnet50(pretrained=True)\n"
   ]
  },
  {
   "cell_type": "code",
   "execution_count": 4,
   "metadata": {},
   "outputs": [],
   "source": [
    "# Perform necessary preprocessing on the images before feeding them into the network.\n",
    "\n",
    "def preprocess_image(image_path):\n",
    "    # Load the image and resize it to (224, 224)\n",
    "    image = Image.open(image_path)\n",
    "    image = image.resize((224, 224))\n",
    "    \n",
    "    # Convert the image to a tensor and normalize it\n",
    "    transformation = transforms.Compose([\n",
    "        transforms.ToTensor(),\n",
    "        transforms.Normalize(\n",
    "            mean=[0.485, 0.456, 0.406],\n",
    "            std=[0.229, 0.224, 0.225]\n",
    "        )\n",
    "    ])\n",
    "    \n",
    "    image = transformation(image).float()\n",
    "    \n",
    "    # Add a batch dimension\n",
    "    image = image.unsqueeze(0)\n",
    "    \n",
    "    return image\n"
   ]
  },
  {
   "cell_type": "code",
   "execution_count": 5,
   "metadata": {},
   "outputs": [],
   "source": [
    "# Extract the features from the penultimate layer of the network (before the fully connected layer - the classification head).\n",
    "\n",
    "def extract_features(image, model, is_cuda=False):\n",
    "    # Extract features\n",
    "    features = model(Variable(image))\n",
    "    # features = features.data.squeeze().numpy()\n",
    "    features = features.data.squeeze().cpu().numpy() if is_cuda else features.data.squeeze().numpy()\n",
    "    \n",
    "    return features\n",
    "    "
   ]
  },
  {
   "cell_type": "code",
   "execution_count": 6,
   "metadata": {},
   "outputs": [],
   "source": [
    "# from tqdm import tqdm\n",
    "# Store the features in a dictionary, where the key is the name of the image and the value is the feature vector.\n",
    "\n",
    "\n",
    "features_dict = {}\n",
    "\n",
    "lfw_dir = \"./data/lfw/\"\n",
    "img_list = []\n",
    "\n",
    "class ImageData():\n",
    "    def __init__(self, image_path, label):\n",
    "        self.image_path = image_path\n",
    "        self.label = label\n",
    "\n",
    "    def __str__(self):\n",
    "        return f'Image path: {self.image_path}, label: {self.label}'\n",
    "\n",
    "for dirname, folders, filenames in os.walk(lfw_dir):\n",
    "    for filename in filenames:\n",
    "        # full path of the image\n",
    "        full_path = os.path.join(dirname, filename)\n",
    "        if full_path.endswith('.jpg'):\n",
    "            # foldername, last foldername, split by / or \\, get the last one\n",
    "            foldername = dirname.split('/')[-1]\n",
    "            foldername = foldername.split('\\\\')[-1]\n",
    "\n",
    "            image_name = full_path.split('/')[-1].split('\\\\')[-1]\n",
    "            label = foldername + '/' + image_name\n",
    "            img = ImageData(full_path, image_name)\n",
    "            img_list.append(img)\n"
   ]
  },
  {
   "cell_type": "code",
   "execution_count": 7,
   "metadata": {},
   "outputs": [
    {
     "name": "stderr",
     "output_type": "stream",
     "text": [
      "100%|██████████| 13233/13233 [04:05<00:00, 53.86it/s]\n"
     ]
    }
   ],
   "source": [
    "from tqdm import tqdm\n",
    "device = torch.device(\"cuda\" if torch.cuda.is_available() else \"cpu\")\n",
    "is_cuda = torch.cuda.is_available()\n",
    "\n",
    "model = model.to(device)\n",
    "\n",
    "\n",
    "for img in tqdm(img_list):\n",
    "    image_path = img.image_path\n",
    "    label = img.label\n",
    "    processed_image = preprocess_image(image_path)\n",
    "    # Speed up the process by using GPU\n",
    "    processed_image = processed_image.to(device)\n",
    "    features = extract_features(processed_image, model, is_cuda)\n",
    "    image_path = image_path.split('/')[-1]\n",
    "    image_name = image_path.split('.')[0]\n",
    "    features_dict[label] = features\n"
   ]
  },
  {
   "cell_type": "code",
   "execution_count": 10,
   "metadata": {},
   "outputs": [],
   "source": [
    "import pickle\n",
    "\n",
    "with open(\"lfw_features.pkl\", \"wb\") as f:\n",
    "    pickle.dump(features_dict, f)"
   ]
  },
  {
   "attachments": {},
   "cell_type": "markdown",
   "metadata": {},
   "source": [
    "# Part 3 Retrieving most similar images (30 points)\n",
    "Use a nearest neighbor algorithm such as this to obtain the 10 most similar images to each query image."
   ]
  },
  {
   "cell_type": "code",
   "execution_count": 11,
   "metadata": {},
   "outputs": [],
   "source": [
    "import pickle\n",
    "\n",
    "with open(\"lfw_features.pkl\", \"rb\") as f:\n",
    "    features_dict = pickle.load(f)"
   ]
  },
  {
   "cell_type": "code",
   "execution_count": 8,
   "metadata": {},
   "outputs": [
    {
     "name": "stdout",
     "output_type": "stream",
     "text": [
      "['Aaron_Eckhart_0001.jpg', 'Aaron_Guiel_0001.jpg', 'Aaron_Patterson_0001.jpg', 'Aaron_Peirsol_0001.jpg', 'Aaron_Peirsol_0002.jpg', 'Aaron_Peirsol_0003.jpg', 'Aaron_Peirsol_0004.jpg', 'Aaron_Pena_0001.jpg', 'Aaron_Sorkin_0001.jpg', 'Aaron_Sorkin_0002.jpg']\n"
     ]
    }
   ],
   "source": [
    "# print keys of the dictionary\n",
    "print(list(features_dict.keys())[:10])"
   ]
  },
  {
   "cell_type": "code",
   "execution_count": 17,
   "metadata": {},
   "outputs": [
    {
     "data": {
      "text/html": [
       "<style>#sk-container-id-1 {color: black;background-color: white;}#sk-container-id-1 pre{padding: 0;}#sk-container-id-1 div.sk-toggleable {background-color: white;}#sk-container-id-1 label.sk-toggleable__label {cursor: pointer;display: block;width: 100%;margin-bottom: 0;padding: 0.3em;box-sizing: border-box;text-align: center;}#sk-container-id-1 label.sk-toggleable__label-arrow:before {content: \"▸\";float: left;margin-right: 0.25em;color: #696969;}#sk-container-id-1 label.sk-toggleable__label-arrow:hover:before {color: black;}#sk-container-id-1 div.sk-estimator:hover label.sk-toggleable__label-arrow:before {color: black;}#sk-container-id-1 div.sk-toggleable__content {max-height: 0;max-width: 0;overflow: hidden;text-align: left;background-color: #f0f8ff;}#sk-container-id-1 div.sk-toggleable__content pre {margin: 0.2em;color: black;border-radius: 0.25em;background-color: #f0f8ff;}#sk-container-id-1 input.sk-toggleable__control:checked~div.sk-toggleable__content {max-height: 200px;max-width: 100%;overflow: auto;}#sk-container-id-1 input.sk-toggleable__control:checked~label.sk-toggleable__label-arrow:before {content: \"▾\";}#sk-container-id-1 div.sk-estimator input.sk-toggleable__control:checked~label.sk-toggleable__label {background-color: #d4ebff;}#sk-container-id-1 div.sk-label input.sk-toggleable__control:checked~label.sk-toggleable__label {background-color: #d4ebff;}#sk-container-id-1 input.sk-hidden--visually {border: 0;clip: rect(1px 1px 1px 1px);clip: rect(1px, 1px, 1px, 1px);height: 1px;margin: -1px;overflow: hidden;padding: 0;position: absolute;width: 1px;}#sk-container-id-1 div.sk-estimator {font-family: monospace;background-color: #f0f8ff;border: 1px dotted black;border-radius: 0.25em;box-sizing: border-box;margin-bottom: 0.5em;}#sk-container-id-1 div.sk-estimator:hover {background-color: #d4ebff;}#sk-container-id-1 div.sk-parallel-item::after {content: \"\";width: 100%;border-bottom: 1px solid gray;flex-grow: 1;}#sk-container-id-1 div.sk-label:hover label.sk-toggleable__label {background-color: #d4ebff;}#sk-container-id-1 div.sk-serial::before {content: \"\";position: absolute;border-left: 1px solid gray;box-sizing: border-box;top: 0;bottom: 0;left: 50%;z-index: 0;}#sk-container-id-1 div.sk-serial {display: flex;flex-direction: column;align-items: center;background-color: white;padding-right: 0.2em;padding-left: 0.2em;position: relative;}#sk-container-id-1 div.sk-item {position: relative;z-index: 1;}#sk-container-id-1 div.sk-parallel {display: flex;align-items: stretch;justify-content: center;background-color: white;position: relative;}#sk-container-id-1 div.sk-item::before, #sk-container-id-1 div.sk-parallel-item::before {content: \"\";position: absolute;border-left: 1px solid gray;box-sizing: border-box;top: 0;bottom: 0;left: 50%;z-index: -1;}#sk-container-id-1 div.sk-parallel-item {display: flex;flex-direction: column;z-index: 1;position: relative;background-color: white;}#sk-container-id-1 div.sk-parallel-item:first-child::after {align-self: flex-end;width: 50%;}#sk-container-id-1 div.sk-parallel-item:last-child::after {align-self: flex-start;width: 50%;}#sk-container-id-1 div.sk-parallel-item:only-child::after {width: 0;}#sk-container-id-1 div.sk-dashed-wrapped {border: 1px dashed gray;margin: 0 0.4em 0.5em 0.4em;box-sizing: border-box;padding-bottom: 0.4em;background-color: white;}#sk-container-id-1 div.sk-label label {font-family: monospace;font-weight: bold;display: inline-block;line-height: 1.2em;}#sk-container-id-1 div.sk-label-container {text-align: center;}#sk-container-id-1 div.sk-container {/* jupyter's `normalize.less` sets `[hidden] { display: none; }` but bootstrap.min.css set `[hidden] { display: none !important; }` so we also need the `!important` here to be able to override the default hidden behavior on the sphinx rendered scikit-learn.org. See: https://github.com/scikit-learn/scikit-learn/issues/21755 */display: inline-block !important;position: relative;}#sk-container-id-1 div.sk-text-repr-fallback {display: none;}</style><div id=\"sk-container-id-1\" class=\"sk-top-container\"><div class=\"sk-text-repr-fallback\"><pre>NearestNeighbors(metric=&#x27;euclidean&#x27;, n_neighbors=10)</pre><b>In a Jupyter environment, please rerun this cell to show the HTML representation or trust the notebook. <br />On GitHub, the HTML representation is unable to render, please try loading this page with nbviewer.org.</b></div><div class=\"sk-container\" hidden><div class=\"sk-item\"><div class=\"sk-estimator sk-toggleable\"><input class=\"sk-toggleable__control sk-hidden--visually\" id=\"sk-estimator-id-1\" type=\"checkbox\" checked><label for=\"sk-estimator-id-1\" class=\"sk-toggleable__label sk-toggleable__label-arrow\">NearestNeighbors</label><div class=\"sk-toggleable__content\"><pre>NearestNeighbors(metric=&#x27;euclidean&#x27;, n_neighbors=10)</pre></div></div></div></div></div>"
      ],
      "text/plain": [
       "NearestNeighbors(metric='euclidean', n_neighbors=10)"
      ]
     },
     "execution_count": 17,
     "metadata": {},
     "output_type": "execute_result"
    }
   ],
   "source": [
    "from sklearn.neighbors import NearestNeighbors\n",
    "import numpy as np\n",
    "\n",
    "# Convert the dictionary of features to a matrix\n",
    "features_matrix = np.array(list(features_dict.values()))\n",
    "\n",
    "# Create a NearestNeighbors object with the desired number of neighbors\n",
    "n_neighbors = 10\n",
    "neighbors = NearestNeighbors(n_neighbors=n_neighbors, metric='euclidean')\n",
    "\n",
    "# Fit the NearestNeighbors object to the feature matrix\n",
    "neighbors.fit(features_matrix)"
   ]
  },
  {
   "cell_type": "code",
   "execution_count": 18,
   "metadata": {},
   "outputs": [],
   "source": [
    "# Define a function to retrieve the 10 most similar images to a query image\n",
    "def retrieve_similar_images(query_image, features_dict, neighbors):\n",
    "    # Retrieve the feature vector of the query image\n",
    "    query_features = features_dict[query_image]\n",
    "\n",
    "    # Find the indices of the closest images to the query image\n",
    "    closest_indices = neighbors.kneighbors([query_features], return_distance=False)[0]\n",
    "\n",
    "    # Retrieve the filenames of the closest images\n",
    "    closest_images = [list(features_dict.keys())[i] for i in closest_indices]\n",
    "\n",
    "    return closest_images"
   ]
  },
  {
   "cell_type": "code",
   "execution_count": 19,
   "metadata": {},
   "outputs": [
    {
     "name": "stdout",
     "output_type": "stream",
     "text": [
      "['George_W_Bush_0001.jpg', 'Colin_Powell_0200.jpg', 'George_Robertson_0016.jpg', 'Emyr_Jones_Parry_0001.jpg', 'Kristen_Breitweiser_0003.jpg', 'Chakib_Khelil_0002.jpg', 'Tommy_Thompson_0007.jpg', 'Felipe_Perez_Roque_0001.jpg', 'Tony_Blair_0049.jpg', 'Bill_Gates_0013.jpg']\n"
     ]
    }
   ],
   "source": [
    "# Test the function with a query image\n",
    "query_image = \"George_W_Bush_0001.jpg\"\n",
    "similar_images = retrieve_similar_images(query_image, features_dict, neighbors)\n",
    "print(similar_images)"
   ]
  }
 ],
 "metadata": {
  "kernelspec": {
   "display_name": "pytorch-ml",
   "language": "python",
   "name": "python3"
  },
  "language_info": {
   "codemirror_mode": {
    "name": "ipython",
    "version": 3
   },
   "file_extension": ".py",
   "mimetype": "text/x-python",
   "name": "python",
   "nbconvert_exporter": "python",
   "pygments_lexer": "ipython3",
   "version": "3.10.10"
  },
  "orig_nbformat": 4
 },
 "nbformat": 4,
 "nbformat_minor": 2
}

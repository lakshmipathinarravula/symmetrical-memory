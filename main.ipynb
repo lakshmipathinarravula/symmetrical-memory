{
 "cells": [
  {
   "cell_type": "code",
   "execution_count": 1,
   "metadata": {},
   "outputs": [],
   "source": [
    "# !wget http://vis-www.cs.umass.edu/lfw/lfw.tgz\n",
    "# !tar -xvf /content/lfw.tgz"
   ]
  },
  {
   "cell_type": "code",
   "execution_count": null,
   "metadata": {},
   "outputs": [],
   "source": []
  },
  {
   "attachments": {},
   "cell_type": "markdown",
   "metadata": {},
   "source": [
    "# Part 2 Using CNN for Feature Extraction (30 points)\n",
    "* Use ResNet50 to extract features vectors from raw images. You can use TF or Pytorch APIs to:\n",
    "* Obtain a ResNet-50 model pre-trained on a dataset such as ImageNet.\n",
    "* Perform necessary preprocessing on the images before feeding them into the network.\n",
    "* Extract the features from the penultimate layer of the network (before the fully connected layer - the classification head).\n",
    "* Store the features in a dictionary, where the key is the name of the image and the value is the feature vector."
   ]
  },
  {
   "cell_type": "code",
   "execution_count": 2,
   "metadata": {},
   "outputs": [],
   "source": [
    "import torch\n",
    "import torchvision.models as models\n",
    "import torchvision.transforms as transforms\n",
    "from torch.autograd import Variable\n",
    "from PIL import Image\n",
    "import os"
   ]
  },
  {
   "cell_type": "code",
   "execution_count": 3,
   "metadata": {},
   "outputs": [
    {
     "name": "stderr",
     "output_type": "stream",
     "text": [
      "d:\\projects\\venvs\\pytorch-ml\\lib\\site-packages\\torchvision\\models\\_utils.py:208: UserWarning: The parameter 'pretrained' is deprecated since 0.13 and may be removed in the future, please use 'weights' instead.\n",
      "  warnings.warn(\n",
      "d:\\projects\\venvs\\pytorch-ml\\lib\\site-packages\\torchvision\\models\\_utils.py:223: UserWarning: Arguments other than a weight enum or `None` for 'weights' are deprecated since 0.13 and may be removed in the future. The current behavior is equivalent to passing `weights=ResNet50_Weights.IMAGENET1K_V1`. You can also use `weights=ResNet50_Weights.DEFAULT` to get the most up-to-date weights.\n",
      "  warnings.warn(msg)\n"
     ]
    }
   ],
   "source": [
    "\n",
    "# Obtain a ResNet-50 model pre-trained on a dataset such as ImageNet.\n",
    "model = models.resnet50(pretrained=True)\n"
   ]
  },
  {
   "cell_type": "code",
   "execution_count": 4,
   "metadata": {},
   "outputs": [],
   "source": [
    "# Perform necessary preprocessing on the images before feeding them into the network.\n",
    "\n",
    "def preprocess_image(image_path):\n",
    "    # Load the image and resize it to (224, 224)\n",
    "    image = Image.open(image_path)\n",
    "    image = image.resize((224, 224))\n",
    "    \n",
    "    # Convert the image to a tensor and normalize it\n",
    "    transformation = transforms.Compose([\n",
    "        transforms.ToTensor(),\n",
    "        transforms.Normalize(\n",
    "            mean=[0.485, 0.456, 0.406],\n",
    "            std=[0.229, 0.224, 0.225]\n",
    "        )\n",
    "    ])\n",
    "    \n",
    "    image = transformation(image).float()\n",
    "    \n",
    "    # Add a batch dimension\n",
    "    image = image.unsqueeze(0)\n",
    "    \n",
    "    return image\n"
   ]
  },
  {
   "cell_type": "code",
   "execution_count": 5,
   "metadata": {},
   "outputs": [],
   "source": [
    "# Extract the features from the penultimate layer of the network (before the fully connected layer - the classification head).\n",
    "\n",
    "def extract_features(image, model, is_cuda=False):\n",
    "    # Extract features\n",
    "    features = model(Variable(image))\n",
    "    # features = features.data.squeeze().numpy()\n",
    "    features = features.data.squeeze().cpu().numpy() if is_cuda else features.data.squeeze().numpy()\n",
    "    \n",
    "    return features\n",
    "    "
   ]
  },
  {
   "cell_type": "code",
   "execution_count": 6,
   "metadata": {},
   "outputs": [],
   "source": [
    "# from tqdm import tqdm\n",
    "# Store the features in a dictionary, where the key is the name of the image and the value is the feature vector.\n",
    "\n",
    "\n",
    "features_dict = {}\n",
    "\n",
    "lfw_dir = \"./data/lfw/\"\n",
    "img_list = []\n",
    "\n",
    "class ImageData():\n",
    "    def __init__(self, image_path, label):\n",
    "        self.image_path = image_path\n",
    "        self.label = label\n",
    "\n",
    "    def __str__(self):\n",
    "        return f'Image path: {self.image_path}, label: {self.label}'\n",
    "\n",
    "for dirname, folders, filenames in os.walk(lfw_dir):\n",
    "    for filename in filenames:\n",
    "        # full path of the image\n",
    "        full_path = os.path.join(dirname, filename)\n",
    "        if full_path.endswith('.jpg'):\n",
    "            # foldername, last foldername, split by / or \\, get the last one\n",
    "            foldername = dirname.split('/')[-1]\n",
    "            foldername = foldername.split('\\\\')[-1]\n",
    "\n",
    "            image_name = full_path.split('/')[-1].split('\\\\')[-1]\n",
    "            label = foldername + '/' + image_name\n",
    "            img = ImageData(full_path, image_name)\n",
    "            img_list.append(img)\n"
   ]
  },
  {
   "cell_type": "code",
   "execution_count": 9,
   "metadata": {},
   "outputs": [
    {
     "name": "stderr",
     "output_type": "stream",
     "text": [
      "100%|██████████| 13233/13233 [03:52<00:00, 56.99it/s]\n"
     ]
    }
   ],
   "source": [
    "from tqdm import tqdm\n",
    "device = torch.device(\"cuda\" if torch.cuda.is_available() else \"cpu\")\n",
    "is_cuda = torch.cuda.is_available()\n",
    "\n",
    "model = model.to(device)\n",
    "\n",
    "\n",
    "for img in tqdm(img_list):\n",
    "    image_path = img.image_path\n",
    "    label = img.label\n",
    "    processed_image = preprocess_image(image_path)\n",
    "    # Speed up the process by using GPU\n",
    "    processed_image = processed_image.to(device)\n",
    "    features = extract_features(processed_image, model, is_cuda)\n",
    "    image_path = image_path.split('/')[-1]\n",
    "    image_name = image_path.split('.')[0]\n",
    "    features_dict[label] = features\n"
   ]
  },
  {
   "cell_type": "code",
   "execution_count": 10,
   "metadata": {},
   "outputs": [],
   "source": [
    "import pickle\n",
    "\n",
    "with open(\"lfw_features.pkl\", \"wb\") as f:\n",
    "    pickle.dump(features_dict, f)"
   ]
  },
  {
   "attachments": {},
   "cell_type": "markdown",
   "metadata": {},
   "source": [
    "# Part 3 Retrieving most similar images (30 points)\n",
    "Use a nearest neighbor algorithm such as this to obtain the 10 most similar images to each query image."
   ]
  },
  {
   "cell_type": "code",
   "execution_count": 11,
   "metadata": {},
   "outputs": [],
   "source": [
    "import pickle\n",
    "\n",
    "with open(\"lfw_features.pkl\", \"rb\") as f:\n",
    "    features_dict = pickle.load(f)"
   ]
  },
  {
   "cell_type": "code",
   "execution_count": 12,
   "metadata": {},
   "outputs": [
    {
     "name": "stdout",
     "output_type": "stream",
     "text": [
      "['Aaron_Eckhart_0001.jpg', 'Aaron_Guiel_0001.jpg', 'Aaron_Patterson_0001.jpg', 'Aaron_Peirsol_0001.jpg', 'Aaron_Peirsol_0002.jpg', 'Aaron_Peirsol_0003.jpg', 'Aaron_Peirsol_0004.jpg', 'Aaron_Pena_0001.jpg', 'Aaron_Sorkin_0001.jpg', 'Aaron_Sorkin_0002.jpg']\n"
     ]
    }
   ],
   "source": [
    "# print keys of the dictionary\n",
    "print(list(features_dict.keys())[:10])"
   ]
  },
  {
   "cell_type": "code",
   "execution_count": 13,
   "metadata": {},
   "outputs": [],
   "source": [
    "import numpy as np\n",
    "\n",
    "# Convert the dictionary of features to a matrix\n",
    "features_matrix = np.array(list(features_dict.values()))\n",
    "\n",
    "# Convert the matrix to a PyTorch tensor and move it to the GPU\n",
    "features_tensor = torch.from_numpy(features_matrix).to(device)\n",
    "\n",
    "# Set the batch size\n",
    "batch_size = 128\n",
    "\n",
    "# Compute the distance matrix in batches\n",
    "distance_matrix = np.empty((len(features_dict), len(features_dict)), dtype=np.float32)\n",
    "for i in range(0, len(features_dict), batch_size):\n",
    "    batch_features = features_tensor[i:i+batch_size]\n",
    "    batch_distances = torch.norm(batch_features[:, None] - features_tensor, dim=2).cpu().numpy()\n",
    "    distance_matrix[i:i+batch_size] = batch_distances"
   ]
  },
  {
   "cell_type": "code",
   "execution_count": 14,
   "metadata": {},
   "outputs": [],
   "source": [
    "# Save the matrix to a file\n",
    "np.save(\"lfw_distance_matrix.npy\", distance_matrix)"
   ]
  },
  {
   "cell_type": "code",
   "execution_count": 15,
   "metadata": {},
   "outputs": [],
   "source": [
    "def retrieve_similar_images(query_image, features_dict, distance_matrix):\n",
    "    # Retrieve the feature vector of the query image\n",
    "    query_features = features_dict[query_image]\n",
    "    \n",
    "    # Compute the distances between the query image and all other images\n",
    "    distances = distance_matrix[list(features_dict.keys()).index(query_image)]\n",
    "        \n",
    "    # Sort the distances in ascending order and retrieve the indices of the 10 closest images\n",
    "    closest_indices = np.argsort(distances)[:10]\n",
    "    \n",
    "    # Retrieve the filenames of the closest images\n",
    "    closest_images = [list(features_dict.keys())[i] for i in closest_indices]\n",
    "    \n",
    "    return closest_images\n"
   ]
  },
  {
   "cell_type": "code",
   "execution_count": 17,
   "metadata": {},
   "outputs": [
    {
     "name": "stdout",
     "output_type": "stream",
     "text": [
      "George_W_Bush_0001.jpg\n",
      "Colin_Powell_0200.jpg\n",
      "George_Robertson_0016.jpg\n",
      "Emyr_Jones_Parry_0001.jpg\n",
      "Kristen_Breitweiser_0003.jpg\n",
      "Chakib_Khelil_0002.jpg\n",
      "Tommy_Thompson_0007.jpg\n",
      "Felipe_Perez_Roque_0001.jpg\n",
      "Tony_Blair_0049.jpg\n",
      "Bill_Gates_0013.jpg\n"
     ]
    }
   ],
   "source": [
    "query_image = \"George_W_Bush_0001.jpg\"\n",
    "similar_images = retrieve_similar_images(query_image, features_dict, distance_matrix)\n",
    "for similar_image in similar_images:\n",
    "    print(similar_image)"
   ]
  }
 ],
 "metadata": {
  "kernelspec": {
   "display_name": "pytorch-ml",
   "language": "python",
   "name": "python3"
  },
  "language_info": {
   "codemirror_mode": {
    "name": "ipython",
    "version": 3
   },
   "file_extension": ".py",
   "mimetype": "text/x-python",
   "name": "python",
   "nbconvert_exporter": "python",
   "pygments_lexer": "ipython3",
   "version": "3.10.10"
  },
  "orig_nbformat": 4
 },
 "nbformat": 4,
 "nbformat_minor": 2
}
